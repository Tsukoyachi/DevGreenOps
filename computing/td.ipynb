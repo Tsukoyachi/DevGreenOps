{
 "cells": [
  {
   "cell_type": "code",
   "execution_count": 1,
   "metadata": {},
   "outputs": [],
   "source": [
    "# 1\n",
    "\n",
    "def caching_fib_helper(n, cache):\n",
    "    if n in cache:\n",
    "        return cache[n]\n",
    "    if n < 2:\n",
    "        return n\n",
    "    cache[n] = caching_fib_helper(n - 2, cache) + caching_fib_helper(n - 1, cache)\n",
    "    return cache[n]\n",
    "\n",
    "def caching_fib(n):\n",
    "    cache = {}\n",
    "    return caching_fib_helper(n, cache)"
   ]
  },
  {
   "cell_type": "code",
   "execution_count": 3,
   "metadata": {},
   "outputs": [],
   "source": [
    "# 2 \n",
    "\n",
    "def optimized_nested_loop():\n",
    "    total = 0\n",
    "    for x in range(10_000):\n",
    "        x_squared = x ** 2  # Moved outside inner loop\n",
    "        for y in range(10_000):\n",
    "            y_squared = y ** 2\n",
    "            total += x_squared + y_squared\n",
    "    return total"
   ]
  },
  {
   "cell_type": "code",
   "execution_count": 4,
   "metadata": {},
   "outputs": [],
   "source": [
    "# 3\n",
    "\n",
    "import random\n",
    "\n",
    "def quick_sort():\n",
    "    arr = [random.randint(1, 100) for _ in range(10_000)]\n",
    "    quick_sort_helper(arr, 0, len(arr) - 1)\n",
    "    return arr\n",
    "\n",
    "def quick_sort_helper(arr, low, high):\n",
    "    if low < high:\n",
    "        pivot_idx = partition(arr, low, high)\n",
    "        quick_sort_helper(arr, low, pivot_idx - 1)\n",
    "        quick_sort_helper(arr, pivot_idx + 1, high)\n",
    "\n",
    "def partition(arr, low, high):\n",
    "    pivot = arr[high]\n",
    "    i = low - 1\n",
    "    for j in range(low, high):\n",
    "        if arr[j] < pivot:\n",
    "            i += 1\n",
    "            arr[i], arr[j] = arr[j], arr[i]\n",
    "    arr[i + 1], arr[high] = arr[high], arr[i + 1]\n",
    "    return i + 1"
   ]
  },
  {
   "cell_type": "code",
   "execution_count": 5,
   "metadata": {},
   "outputs": [],
   "source": [
    "# 4\n",
    "\n",
    "def dichotomous_search():\n",
    "    arr = [random.randint(1, 100) for _ in range(100_000)]\n",
    "    arr.sort()\n",
    "    target = random.randint(1, 100)\n",
    "    return dichotomous_search_helper(arr, target, 0, len(arr) - 1)\n",
    "\n",
    "def dichotomous_search_helper(arr, target, low, high):\n",
    "    if low > high:\n",
    "        return False\n",
    "    mid = (low + high) // 2\n",
    "    if arr[mid] == target:\n",
    "        return True\n",
    "    elif arr[mid] < target:\n",
    "        return dichotomous_search_helper(arr, target, mid + 1, high)\n",
    "    else:\n",
    "        return dichotomous_search_helper(arr, target, low, mid - 1)"
   ]
  },
  {
   "cell_type": "code",
   "execution_count": 14,
   "metadata": {},
   "outputs": [
    {
     "name": "stdout",
     "output_type": "stream",
     "text": [
      "Report:\n",
      "--------\n",
      "Number of iterations: 100\n",
      "Threshold values: [24, 3, 33, 26, 19, 22, 28, 26, 43, 26, 3, 20, 25, 28, 26, 14, 25, 13, 43, 24, 12, 37, 25, 37, 20, 15, 66, 24, 13, 13, 39, 11, 46, 21, 13, 23, 25, 63, 29, 30, 22, 28, 27, 27, 28, 3, 15, 37, 10, 15, 17, 16, 27, 17, 31, 16, 38, 16, 11, 42, 35, 23, 13, 27, 19, 40, 60, 64, 6, 25, 42, 18, 49, 27, 42, 25, 22, 18, 52, 8, 10, 42, 47, 34, 49, 35, 29, 40, 23, 58, 63, 10, 24, 10, 54, 40, 26, 21, 36, 57]\n",
      "Average threshold value: 27.99\n"
     ]
    }
   ],
   "source": [
    "# 5\n",
    "\n",
    "import random\n",
    "import time\n",
    "\n",
    "def basic_search(arr, target):\n",
    "    for x in arr:\n",
    "        if x == target:\n",
    "            return True\n",
    "    return False\n",
    "\n",
    "def dichotomous_search(arr, target):\n",
    "    low, high = 0, len(arr) - 1\n",
    "    while low <= high:\n",
    "        mid = (low + high) // 2\n",
    "        if arr[mid] == target:\n",
    "            return True\n",
    "        elif arr[mid] < target:\n",
    "            low = mid + 1\n",
    "        else:\n",
    "            high = mid - 1\n",
    "    return False\n",
    "\n",
    "def test_threshold(num_iterations=10):\n",
    "    results = []\n",
    "    for _ in range(num_iterations):\n",
    "        threshold_n = None\n",
    "        for n in range(1, 1000):\n",
    "            arr = [random.randint(1, 100) for _ in range(1000)]\n",
    "            total_time_without_sorting = 0\n",
    "            total_time_with_sorting = 0\n",
    "\n",
    "            target = random.randint(1, 100)  # Generate target value only once\n",
    "\n",
    "            # Measure time to perform n searches without sorting\n",
    "            start_time = time.time()\n",
    "            for _ in range(n):\n",
    "                basic_search(arr, target)\n",
    "            end_time = time.time()\n",
    "            time_without_sorting = end_time - start_time\n",
    "            total_time_without_sorting += time_without_sorting\n",
    "\n",
    "            # Measure time to perform n searches with sorting\n",
    "            start_time = time.time()\n",
    "            arr.sort()\n",
    "            for _ in range(n):\n",
    "                dichotomous_search(arr, target)\n",
    "            end_time = time.time()\n",
    "            time_with_sorting = end_time - start_time\n",
    "            total_time_with_sorting += time_with_sorting\n",
    "\n",
    "            # Calculate average time\n",
    "            avg_time_without_sorting = total_time_without_sorting\n",
    "            avg_time_with_sorting = total_time_with_sorting\n",
    "\n",
    "            # Check if sorting becomes beneficial\n",
    "            if avg_time_with_sorting < avg_time_without_sorting and threshold_n is None:\n",
    "                threshold_n = n\n",
    "                break\n",
    "\n",
    "        if threshold_n is None:\n",
    "            threshold_n = \"Sorting never becomes beneficial\"\n",
    "\n",
    "        results.append(threshold_n)\n",
    "\n",
    "    # Generate report\n",
    "    print(\"Report:\")\n",
    "    print(\"--------\")\n",
    "    print(f\"Number of iterations: {num_iterations}\")\n",
    "    print(f\"Threshold values: {results}\")\n",
    "    print(f\"Average threshold value: {sum([x for x in results if isinstance(x, int)]) / len([x for x in results if isinstance(x, int)])}\")\n",
    "\n",
    "test_threshold(num_iterations=100)"
   ]
  },
  {
   "cell_type": "code",
   "execution_count": 7,
   "metadata": {},
   "outputs": [],
   "source": [
    "# 6\n",
    "\n",
    "def optimized_array_sum():\n",
    "    total = 0\n",
    "    # Using generator expression instead of list comprehension\n",
    "    squares = (x * x for x in range(1000000))\n",
    "    for x in squares:\n",
    "        total += x"
   ]
  },
  {
   "cell_type": "code",
   "execution_count": 8,
   "metadata": {},
   "outputs": [],
   "source": [
    "# 7\n",
    "\n",
    "def factorial_optimized(n):\n",
    "    result = 1\n",
    "    for i in range(1, n + 1):\n",
    "        result *= i\n",
    "    return result"
   ]
  },
  {
   "cell_type": "code",
   "execution_count": 9,
   "metadata": {},
   "outputs": [],
   "source": [
    "# 8\n",
    "\n",
    "def optimized_has_even_number():\n",
    "    arr = [i for i in range(1_000_000)]\n",
    "    for x in arr:\n",
    "        if x % 2 == 0:\n",
    "            return True\n",
    "    return False"
   ]
  },
  {
   "cell_type": "code",
   "execution_count": 15,
   "metadata": {},
   "outputs": [],
   "source": [
    "# 9\n",
    "\n",
    "def read_file_at_once():\n",
    "    with open('lorem_ipsum.py') as f:\n",
    "        content = f.read()\n",
    "        #print(content)"
   ]
  },
  {
   "cell_type": "code",
   "execution_count": 12,
   "metadata": {},
   "outputs": [],
   "source": [
    "# 10\n",
    "\n",
    "def dynamic_fib(n):\n",
    "    fib_numbers = [0, 1]\n",
    "    while len(fib_numbers) < n + 1:\n",
    "        fib_numbers.append(fib_numbers[-1] + fib_numbers[-2])\n",
    "    return fib_numbers[n]"
   ]
  }
 ],
 "metadata": {
  "kernelspec": {
   "display_name": "Python 3",
   "language": "python",
   "name": "python3"
  },
  "language_info": {
   "codemirror_mode": {
    "name": "ipython",
    "version": 3
   },
   "file_extension": ".py",
   "mimetype": "text/x-python",
   "name": "python",
   "nbconvert_exporter": "python",
   "pygments_lexer": "ipython3",
   "version": "3.12.6"
  }
 },
 "nbformat": 4,
 "nbformat_minor": 2
}
